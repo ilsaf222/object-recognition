{
 "cells": [
  {
   "cell_type": "code",
   "execution_count": 1,
   "metadata": {},
   "outputs": [],
   "source": [
    "#from tensorflow.python.keras.preprocessing.image import ImageDataGenerator\n",
    "from keras.preprocessing.image import ImageDataGenerator\n",
    "from tensorflow.python.keras.models import Sequential\n",
    "from tensorflow.python.keras.layers import Conv2D, MaxPooling2D\n",
    "from tensorflow.python.keras.layers import Activation, Dropout, Flatten, Dense\n",
    "from keras.models import load_model\n",
    "import numpy as np\n",
    "from tensorflow import keras\n",
    "import tensorflow as tf"
   ]
  },
  {
   "cell_type": "code",
   "execution_count": 2,
   "metadata": {},
   "outputs": [],
   "source": [
    "# Каталог с данными для обучения\n",
    "train_dir = 'train'\n",
    "# Каталог с данными для проверки\n",
    "val_dir = 'val'\n",
    "# Каталог с данными для тестирования\n",
    "test_dir = 'test'\n",
    "# Размеры изображения\n",
    "img_width, img_height = 150, 150\n",
    "# Размерность тензора на основе изображения для входных данных в нейронную сеть\n",
    "input_shape = (img_width, img_height, 3)\n",
    "# Количество эпох\n",
    "epochs = 20\n",
    "# Размер мини-выборки\n",
    "batch_size = 20\n",
    "# Количество изображений для обучения\n",
    "nb_train_samples = 11839 #9824\n",
    "# Количество изображений для проверки\n",
    "nb_validation_samples = 2801\n",
    "# Количество изображений для тестирования\n",
    "nb_test_samples = 398"
   ]
  },
  {
   "cell_type": "code",
   "execution_count": 3,
   "metadata": {},
   "outputs": [],
   "source": [
    "model = Sequential()\n",
    "model.add(Conv2D(32, (3, 3), input_shape=input_shape))\n",
    "model.add(Activation('relu'))\n",
    "model.add(MaxPooling2D(pool_size=(2, 2)))\n",
    "\n",
    "model.add(Conv2D(32, (3, 3)))\n",
    "model.add(Activation('relu'))\n",
    "model.add(MaxPooling2D(pool_size=(2, 2)))\n",
    "\n",
    "model.add(Conv2D(64, (3, 3)))\n",
    "model.add(Activation('relu'))\n",
    "model.add(MaxPooling2D(pool_size=(2, 2)))\n",
    "\n",
    "model.add(Flatten())\n",
    "model.add(Dense(64))\n",
    "model.add(Activation('relu'))\n",
    "model.add(Dropout(0.5))\n",
    "model.add(Dense(3))\n",
    "model.add(Activation('softmax')) # softmax И sigmoid"
   ]
  },
  {
   "cell_type": "markdown",
   "metadata": {},
   "source": [
    "categorical_crossentropy и binary_crossentropy"
   ]
  },
  {
   "cell_type": "code",
   "execution_count": 4,
   "metadata": {},
   "outputs": [],
   "source": [
    "model.compile(loss='categorical_crossentropy',\n",
    "              optimizer='adam',\n",
    "              metrics=['accuracy'])"
   ]
  },
  {
   "cell_type": "code",
   "execution_count": 5,
   "metadata": {},
   "outputs": [],
   "source": [
    "datagen = ImageDataGenerator(rescale=1. / 255)"
   ]
  },
  {
   "cell_type": "code",
   "execution_count": 6,
   "metadata": {},
   "outputs": [
    {
     "name": "stdout",
     "output_type": "stream",
     "text": [
      "Found 11839 images belonging to 3 classes.\n"
     ]
    }
   ],
   "source": [
    "train_generator = datagen.flow_from_directory(\n",
    "    train_dir,\n",
    "    target_size=(img_width, img_height),\n",
    "    batch_size=batch_size,\n",
    "    class_mode='categorical')"
   ]
  },
  {
   "cell_type": "code",
   "execution_count": 7,
   "metadata": {},
   "outputs": [
    {
     "name": "stdout",
     "output_type": "stream",
     "text": [
      "Found 2801 images belonging to 3 classes.\n"
     ]
    }
   ],
   "source": [
    "val_generator = datagen.flow_from_directory(\n",
    "    val_dir,\n",
    "    target_size=(img_width, img_height),\n",
    "    batch_size=batch_size,\n",
    "    class_mode='categorical')"
   ]
  },
  {
   "cell_type": "code",
   "execution_count": 8,
   "metadata": {},
   "outputs": [
    {
     "name": "stdout",
     "output_type": "stream",
     "text": [
      "Found 398 images belonging to 3 classes.\n"
     ]
    }
   ],
   "source": [
    "test_generator = datagen.flow_from_directory(\n",
    "    test_dir,\n",
    "    target_size=(img_width, img_height),\n",
    "    batch_size=batch_size,\n",
    "    class_mode='categorical')"
   ]
  },
  {
   "cell_type": "code",
   "execution_count": 9,
   "metadata": {},
   "outputs": [
    {
     "name": "stderr",
     "output_type": "stream",
     "text": [
      "C:\\Users\\ilsaf\\AppData\\Local\\Programs\\Python\\Python310\\lib\\site-packages\\tensorflow\\python\\keras\\engine\\training.py:1963: UserWarning: `Model.fit_generator` is deprecated and will be removed in a future version. Please use `Model.fit`, which supports generators.\n",
      "  warnings.warn('`Model.fit_generator` is deprecated and '\n"
     ]
    },
    {
     "name": "stdout",
     "output_type": "stream",
     "text": [
      "Epoch 1/20\n",
      "591/591 [==============================] - 428s 724ms/step - loss: 0.4495 - accuracy: 0.8323 - val_loss: 0.1712 - val_accuracy: 0.9425\n",
      "Epoch 2/20\n",
      "591/591 [==============================] - 461s 782ms/step - loss: 0.2015 - accuracy: 0.9337 - val_loss: 0.1855 - val_accuracy: 0.9354\n",
      "Epoch 3/20\n",
      "591/591 [==============================] - 448s 760ms/step - loss: 0.1145 - accuracy: 0.9629 - val_loss: 0.1071 - val_accuracy: 0.9675\n",
      "Epoch 4/20\n",
      "591/591 [==============================] - 300s 508ms/step - loss: 0.0835 - accuracy: 0.9735 - val_loss: 0.0633 - val_accuracy: 0.9796\n",
      "Epoch 5/20\n",
      "591/591 [==============================] - 270s 457ms/step - loss: 0.0620 - accuracy: 0.9810 - val_loss: 0.1169 - val_accuracy: 0.9746\n",
      "Epoch 6/20\n",
      "591/591 [==============================] - 274s 464ms/step - loss: 0.0409 - accuracy: 0.9876 - val_loss: 0.0794 - val_accuracy: 0.9768\n",
      "Epoch 7/20\n",
      "591/591 [==============================] - 274s 464ms/step - loss: 0.0428 - accuracy: 0.9860 - val_loss: 0.0727 - val_accuracy: 0.9846\n",
      "Epoch 8/20\n",
      "591/591 [==============================] - 279s 472ms/step - loss: 0.0334 - accuracy: 0.9889 - val_loss: 0.1065 - val_accuracy: 0.9754\n",
      "Epoch 9/20\n",
      "591/591 [==============================] - 386s 654ms/step - loss: 0.0346 - accuracy: 0.9883 - val_loss: 0.0711 - val_accuracy: 0.9829\n",
      "Epoch 10/20\n",
      "591/591 [==============================] - 446s 756ms/step - loss: 0.0251 - accuracy: 0.9926 - val_loss: 0.0730 - val_accuracy: 0.9843\n",
      "Epoch 11/20\n",
      "591/591 [==============================] - 441s 747ms/step - loss: 0.0233 - accuracy: 0.9915 - val_loss: 0.1047 - val_accuracy: 0.9764\n",
      "Epoch 12/20\n",
      "591/591 [==============================] - 433s 733ms/step - loss: 0.0295 - accuracy: 0.9901 - val_loss: 0.0724 - val_accuracy: 0.9861\n",
      "Epoch 13/20\n",
      "591/591 [==============================] - 377s 638ms/step - loss: 0.0144 - accuracy: 0.9953 - val_loss: 0.1188 - val_accuracy: 0.9793\n",
      "Epoch 14/20\n",
      "591/591 [==============================] - 280s 474ms/step - loss: 0.0272 - accuracy: 0.9916 - val_loss: 0.0887 - val_accuracy: 0.9854\n",
      "Epoch 15/20\n",
      "591/591 [==============================] - 278s 471ms/step - loss: 0.0239 - accuracy: 0.9931 - val_loss: 0.0864 - val_accuracy: 0.9871\n",
      "Epoch 16/20\n",
      "591/591 [==============================] - 283s 479ms/step - loss: 0.0241 - accuracy: 0.9925 - val_loss: 0.1262 - val_accuracy: 0.9796\n",
      "Epoch 17/20\n",
      "591/591 [==============================] - 281s 476ms/step - loss: 0.0178 - accuracy: 0.9940 - val_loss: 0.1252 - val_accuracy: 0.9807\n",
      "Epoch 18/20\n",
      "591/591 [==============================] - 280s 474ms/step - loss: 0.0169 - accuracy: 0.9949 - val_loss: 0.0744 - val_accuracy: 0.9836\n",
      "Epoch 19/20\n",
      "591/591 [==============================] - 284s 480ms/step - loss: 0.0244 - accuracy: 0.9932 - val_loss: 0.1550 - val_accuracy: 0.9750\n",
      "Epoch 20/20\n",
      "591/591 [==============================] - 287s 485ms/step - loss: 0.0064 - accuracy: 0.9975 - val_loss: 0.1233 - val_accuracy: 0.9832\n"
     ]
    },
    {
     "data": {
      "text/plain": [
       "<tensorflow.python.keras.callbacks.History at 0x2979d21bc10>"
      ]
     },
     "execution_count": 9,
     "metadata": {},
     "output_type": "execute_result"
    }
   ],
   "source": [
    "model.fit_generator(\n",
    "    train_generator,\n",
    "    steps_per_epoch=nb_train_samples // batch_size,\n",
    "    epochs=epochs,\n",
    "    validation_data=val_generator,\n",
    "    validation_steps=nb_validation_samples // batch_size)"
   ]
  },
  {
   "cell_type": "code",
   "execution_count": 10,
   "metadata": {},
   "outputs": [
    {
     "name": "stderr",
     "output_type": "stream",
     "text": [
      "C:\\Users\\ilsaf\\AppData\\Local\\Programs\\Python\\Python310\\lib\\site-packages\\tensorflow\\python\\keras\\engine\\training.py:1996: UserWarning: `Model.evaluate_generator` is deprecated and will be removed in a future version. Please use `Model.evaluate`, which supports generators.\n",
      "  warnings.warn('`Model.evaluate_generator` is deprecated and '\n"
     ]
    }
   ],
   "source": [
    "scores = model.evaluate_generator(test_generator, nb_test_samples // batch_size)"
   ]
  },
  {
   "cell_type": "code",
   "execution_count": 11,
   "metadata": {},
   "outputs": [
    {
     "name": "stdout",
     "output_type": "stream",
     "text": [
      "Точность на тестовых данных: 98.16%\n"
     ]
    }
   ],
   "source": [
    "print(\"Точность на тестовых данных: %.2f%%\" % (scores[1]*100))"
   ]
  },
  {
   "cell_type": "code",
   "execution_count": 12,
   "metadata": {},
   "outputs": [],
   "source": [
    "model.save('cars_birds_trees(2).h5')"
   ]
  },
  {
   "cell_type": "code",
   "execution_count": 13,
   "metadata": {},
   "outputs": [],
   "source": [
    "model_json = model.to_json()\n",
    "json_file = open('cars_birds_trees(2).json', 'w')\n",
    "json_file.write(model_json)\n",
    "json_file.close()\n",
    "model.save_weights('cars_birds_trees_weights(2).h5')"
   ]
  },
  {
   "cell_type": "code",
   "execution_count": null,
   "metadata": {},
   "outputs": [],
   "source": []
  }
 ],
 "metadata": {
  "interpreter": {
   "hash": "4ca2f8a98b7a518198c4eab25913799ea4e7e3ad2ac48d63b5337c4907dae643"
  },
  "kernelspec": {
   "display_name": "Python 3.10.1 64-bit",
   "language": "python",
   "name": "python3"
  },
  "language_info": {
   "codemirror_mode": {
    "name": "ipython",
    "version": 3
   },
   "file_extension": ".py",
   "mimetype": "text/x-python",
   "name": "python",
   "nbconvert_exporter": "python",
   "pygments_lexer": "ipython3",
   "version": "3.10.1"
  },
  "orig_nbformat": 4
 },
 "nbformat": 4,
 "nbformat_minor": 2
}
